{
  "nbformat": 4,
  "nbformat_minor": 0,
  "metadata": {
    "colab": {
      "provenance": []
    },
    "kernelspec": {
      "name": "python3",
      "display_name": "Python 3"
    },
    "language_info": {
      "name": "python"
    }
  },
  "cells": [
    {
      "cell_type": "code",
      "execution_count": 2,
      "metadata": {
        "colab": {
          "base_uri": "https://localhost:8080/"
        },
        "id": "ELAGeqNSjlj2",
        "outputId": "04de2580-c4c4-4cc7-e727-089e9061bdb4"
      },
      "outputs": [
        {
          "output_type": "stream",
          "name": "stdout",
          "text": [
            "Collecting diagrams\n",
            "  Downloading diagrams-0.24.1-py3-none-any.whl.metadata (6.9 kB)\n",
            "Requirement already satisfied: graphviz<0.21.0,>=0.13.2 in /usr/local/lib/python3.10/dist-packages (from diagrams) (0.20.3)\n",
            "Requirement already satisfied: jinja2<4.0,>=2.10 in /usr/local/lib/python3.10/dist-packages (from diagrams) (3.1.4)\n",
            "Requirement already satisfied: MarkupSafe>=2.0 in /usr/local/lib/python3.10/dist-packages (from jinja2<4.0,>=2.10->diagrams) (3.0.2)\n",
            "Downloading diagrams-0.24.1-py3-none-any.whl (25.1 MB)\n",
            "\u001b[2K   \u001b[90m━━━━━━━━━━━━━━━━━━━━━━━━━━━━━━━━━━━━━━━━\u001b[0m \u001b[32m25.1/25.1 MB\u001b[0m \u001b[31m67.6 MB/s\u001b[0m eta \u001b[36m0:00:00\u001b[0m\n",
            "\u001b[?25hInstalling collected packages: diagrams\n",
            "Successfully installed diagrams-0.24.1\n"
          ]
        }
      ],
      "source": [
        "!pip install diagrams\n"
      ]
    },
    {
      "cell_type": "code",
      "source": [
        "from diagrams import Diagram, Cluster\n",
        "from diagrams.aws.storage import S3\n",
        "from diagrams.onprem.workflow import Airflow\n",
        "from diagrams.onprem.database import PostgreSQL\n",
        "from diagrams.programming.language import Python\n",
        "from diagrams.onprem.client import User\n",
        "from diagrams.generic.compute import Rack\n",
        "from diagrams.generic.database import SQL  # Use SQL as a replacement for Database\n",
        "from diagrams.custom import Custom\n",
        "from diagrams.onprem.analytics import PowerBI\n",
        "\n",
        "with Diagram(\"GamePlan: Personalized Sports Companion\", filename=\"sports_agentic_architecture\", show=True, direction=\"LR\"):\n",
        "    user = User(\"User Queries\")\n",
        "\n",
        "    with Cluster(\"Data Sources\"):\n",
        "        apis = Custom(\"NewsAPI, CricAPI, Google Maps\", \"/API.jpg\")\n",
        "        scrapers = Custom(\"Selenium, BeautifulSoup\", \"/WEB.jpg\")\n",
        "\n",
        "    with Cluster(\"Ingestion Layer\"):\n",
        "        airflow = Airflow(\"Airflow\")\n",
        "\n",
        "    with Cluster(\"Staging Layer\"):\n",
        "        s3 = S3(\"Amazon S3\")\n",
        "\n",
        "    with Cluster(\"Processing Layer\"):\n",
        "        with Cluster(\"Cleaning\"):\n",
        "            pandas = Python(\"Pandas\")\n",
        "        with Cluster(\"Transformation\"):\n",
        "            langchain = Custom(\"LangChain\", \"/Lang.jpg\")\n",
        "            embeddings = Custom(\"OpenAI Embeddings\", \"/open.jpg\")\n",
        "\n",
        "    with Cluster(\"Agentic Architecture\"):\n",
        "        adaptive_rag = Rack(\"Adaptive RAG Agent\")\n",
        "        self_rag = Rack(\"Self-RAG Agent\")\n",
        "        planning_agent = Rack(\"Planning Agent\")\n",
        "\n",
        "    with Cluster(\"Storage\"):\n",
        "        snowflake = Custom(\"Structured Data\", \"/Snowflake.jpg\")\n",
        "        pinecone = Custom(\"Embeddings\", \"/Pinecone.jpg\")\n",
        "\n",
        "    with Cluster(\"Backend\"):\n",
        "        fastapi = Custom(\"FASTAPI\", \"/FASTAPI.jpg\")\n",
        "\n",
        "    with Cluster(\"Frontend\"):\n",
        "        frontend = Custom(\"Streamlit UI\", \"/stream.jpg\")\n",
        "\n",
        "    # Connections\n",
        "    user >> [apis, scrapers]\n",
        "    [apis, scrapers] >> airflow >> s3 >> pandas >> [langchain, embeddings]\n",
        "    langchain >> adaptive_rag >> snowflake\n",
        "    embeddings >> self_rag >> pinecone\n",
        "    planning_agent >> [adaptive_rag, self_rag]\n",
        "    [snowflake, pinecone] >> fastapi >> frontend\n"
      ],
      "metadata": {
        "id": "RM_iYU70jq_l"
      },
      "execution_count": 9,
      "outputs": []
    },
    {
      "cell_type": "code",
      "source": [
        "from google.colab import files\n",
        "files.download(\"sports_agentic_architecture.png\")\n"
      ],
      "metadata": {
        "colab": {
          "base_uri": "https://localhost:8080/",
          "height": 17
        },
        "id": "XA5hc7T0j0sq",
        "outputId": "526b1dd9-e070-4660-8861-4440c16f854d"
      },
      "execution_count": 10,
      "outputs": [
        {
          "output_type": "display_data",
          "data": {
            "text/plain": [
              "<IPython.core.display.Javascript object>"
            ],
            "application/javascript": [
              "\n",
              "    async function download(id, filename, size) {\n",
              "      if (!google.colab.kernel.accessAllowed) {\n",
              "        return;\n",
              "      }\n",
              "      const div = document.createElement('div');\n",
              "      const label = document.createElement('label');\n",
              "      label.textContent = `Downloading \"${filename}\": `;\n",
              "      div.appendChild(label);\n",
              "      const progress = document.createElement('progress');\n",
              "      progress.max = size;\n",
              "      div.appendChild(progress);\n",
              "      document.body.appendChild(div);\n",
              "\n",
              "      const buffers = [];\n",
              "      let downloaded = 0;\n",
              "\n",
              "      const channel = await google.colab.kernel.comms.open(id);\n",
              "      // Send a message to notify the kernel that we're ready.\n",
              "      channel.send({})\n",
              "\n",
              "      for await (const message of channel.messages) {\n",
              "        // Send a message to notify the kernel that we're ready.\n",
              "        channel.send({})\n",
              "        if (message.buffers) {\n",
              "          for (const buffer of message.buffers) {\n",
              "            buffers.push(buffer);\n",
              "            downloaded += buffer.byteLength;\n",
              "            progress.value = downloaded;\n",
              "          }\n",
              "        }\n",
              "      }\n",
              "      const blob = new Blob(buffers, {type: 'application/binary'});\n",
              "      const a = document.createElement('a');\n",
              "      a.href = window.URL.createObjectURL(blob);\n",
              "      a.download = filename;\n",
              "      div.appendChild(a);\n",
              "      a.click();\n",
              "      div.remove();\n",
              "    }\n",
              "  "
            ]
          },
          "metadata": {}
        },
        {
          "output_type": "display_data",
          "data": {
            "text/plain": [
              "<IPython.core.display.Javascript object>"
            ],
            "application/javascript": [
              "download(\"download_30cd5f5a-a9a8-4d97-a0ca-be6d7fac7365\", \"sports_agentic_architecture.png\", 252629)"
            ]
          },
          "metadata": {}
        }
      ]
    },
    {
      "cell_type": "code",
      "source": [],
      "metadata": {
        "id": "cXGg2V64xhvI"
      },
      "execution_count": null,
      "outputs": []
    }
  ]
}